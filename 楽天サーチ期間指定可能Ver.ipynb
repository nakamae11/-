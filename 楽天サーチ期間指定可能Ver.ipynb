{
  "nbformat": 4,
  "nbformat_minor": 0,
  "metadata": {
    "colab": {
      "provenance": [],
      "authorship_tag": "ABX9TyOl49uuCmbr+yohktW36PCc",
      "include_colab_link": true
    },
    "kernelspec": {
      "name": "python3",
      "display_name": "Python 3"
    },
    "language_info": {
      "name": "python"
    },
    "widgets": {
      "application/vnd.jupyter.widget-state+json": {
        "c0a833af3183415092c86c04e895753b": {
          "model_module": "@jupyter-widgets/controls",
          "model_name": "TextModel",
          "model_module_version": "1.5.0",
          "state": {
            "_dom_classes": [],
            "_model_module": "@jupyter-widgets/controls",
            "_model_module_version": "1.5.0",
            "_model_name": "TextModel",
            "_view_count": null,
            "_view_module": "@jupyter-widgets/controls",
            "_view_module_version": "1.5.0",
            "_view_name": "TextView",
            "continuous_update": true,
            "description": "キーワード:",
            "description_tooltip": null,
            "disabled": false,
            "layout": "IPY_MODEL_0b09344d309f40e6966881c669ef3e4f",
            "placeholder": "​",
            "style": "IPY_MODEL_97c27228d95d4bcf93e14d56078d5af2",
            "value": "カラス除け"
          }
        },
        "0b09344d309f40e6966881c669ef3e4f": {
          "model_module": "@jupyter-widgets/base",
          "model_name": "LayoutModel",
          "model_module_version": "1.2.0",
          "state": {
            "_model_module": "@jupyter-widgets/base",
            "_model_module_version": "1.2.0",
            "_model_name": "LayoutModel",
            "_view_count": null,
            "_view_module": "@jupyter-widgets/base",
            "_view_module_version": "1.2.0",
            "_view_name": "LayoutView",
            "align_content": null,
            "align_items": null,
            "align_self": null,
            "border": null,
            "bottom": null,
            "display": null,
            "flex": null,
            "flex_flow": null,
            "grid_area": null,
            "grid_auto_columns": null,
            "grid_auto_flow": null,
            "grid_auto_rows": null,
            "grid_column": null,
            "grid_gap": null,
            "grid_row": null,
            "grid_template_areas": null,
            "grid_template_columns": null,
            "grid_template_rows": null,
            "height": null,
            "justify_content": null,
            "justify_items": null,
            "left": null,
            "margin": null,
            "max_height": null,
            "max_width": null,
            "min_height": null,
            "min_width": null,
            "object_fit": null,
            "object_position": null,
            "order": null,
            "overflow": null,
            "overflow_x": null,
            "overflow_y": null,
            "padding": null,
            "right": null,
            "top": null,
            "visibility": null,
            "width": null
          }
        },
        "97c27228d95d4bcf93e14d56078d5af2": {
          "model_module": "@jupyter-widgets/controls",
          "model_name": "DescriptionStyleModel",
          "model_module_version": "1.5.0",
          "state": {
            "_model_module": "@jupyter-widgets/controls",
            "_model_module_version": "1.5.0",
            "_model_name": "DescriptionStyleModel",
            "_view_count": null,
            "_view_module": "@jupyter-widgets/base",
            "_view_module_version": "1.2.0",
            "_view_name": "StyleView",
            "description_width": ""
          }
        },
        "1dbd3e4495b2431a9590b32dfc72ede1": {
          "model_module": "@jupyter-widgets/controls",
          "model_name": "DropdownModel",
          "model_module_version": "1.5.0",
          "state": {
            "_dom_classes": [],
            "_model_module": "@jupyter-widgets/controls",
            "_model_module_version": "1.5.0",
            "_model_name": "DropdownModel",
            "_options_labels": [
              "標準",
              "レビュー件数が多い順",
              "販売数が多い順",
              "価格が安い順",
              "価格が高い順"
            ],
            "_view_count": null,
            "_view_module": "@jupyter-widgets/controls",
            "_view_module_version": "1.5.0",
            "_view_name": "DropdownView",
            "description": "ソート:",
            "description_tooltip": null,
            "disabled": false,
            "index": 0,
            "layout": "IPY_MODEL_f6c7e1b446e3432ba653b17c15154db0",
            "style": "IPY_MODEL_0af92b2606ad405db8eb823ce8a2000c"
          }
        },
        "f6c7e1b446e3432ba653b17c15154db0": {
          "model_module": "@jupyter-widgets/base",
          "model_name": "LayoutModel",
          "model_module_version": "1.2.0",
          "state": {
            "_model_module": "@jupyter-widgets/base",
            "_model_module_version": "1.2.0",
            "_model_name": "LayoutModel",
            "_view_count": null,
            "_view_module": "@jupyter-widgets/base",
            "_view_module_version": "1.2.0",
            "_view_name": "LayoutView",
            "align_content": null,
            "align_items": null,
            "align_self": null,
            "border": null,
            "bottom": null,
            "display": null,
            "flex": null,
            "flex_flow": null,
            "grid_area": null,
            "grid_auto_columns": null,
            "grid_auto_flow": null,
            "grid_auto_rows": null,
            "grid_column": null,
            "grid_gap": null,
            "grid_row": null,
            "grid_template_areas": null,
            "grid_template_columns": null,
            "grid_template_rows": null,
            "height": null,
            "justify_content": null,
            "justify_items": null,
            "left": null,
            "margin": null,
            "max_height": null,
            "max_width": null,
            "min_height": null,
            "min_width": null,
            "object_fit": null,
            "object_position": null,
            "order": null,
            "overflow": null,
            "overflow_x": null,
            "overflow_y": null,
            "padding": null,
            "right": null,
            "top": null,
            "visibility": null,
            "width": null
          }
        },
        "0af92b2606ad405db8eb823ce8a2000c": {
          "model_module": "@jupyter-widgets/controls",
          "model_name": "DescriptionStyleModel",
          "model_module_version": "1.5.0",
          "state": {
            "_model_module": "@jupyter-widgets/controls",
            "_model_module_version": "1.5.0",
            "_model_name": "DescriptionStyleModel",
            "_view_count": null,
            "_view_module": "@jupyter-widgets/base",
            "_view_module_version": "1.2.0",
            "_view_name": "StyleView",
            "description_width": ""
          }
        },
        "a99b563b5a00492780730f02604b5b6f": {
          "model_module": "@jupyter-widgets/controls",
          "model_name": "IntTextModel",
          "model_module_version": "1.5.0",
          "state": {
            "_dom_classes": [],
            "_model_module": "@jupyter-widgets/controls",
            "_model_module_version": "1.5.0",
            "_model_name": "IntTextModel",
            "_view_count": null,
            "_view_module": "@jupyter-widgets/controls",
            "_view_module_version": "1.5.0",
            "_view_name": "IntTextView",
            "continuous_update": false,
            "description": "取得件数:",
            "description_tooltip": null,
            "disabled": false,
            "layout": "IPY_MODEL_7b878dce46f9486d8abb74d62a12528b",
            "step": 1,
            "style": "IPY_MODEL_4f84709ec4714c20be18c37f953a3050",
            "value": 30
          }
        },
        "7b878dce46f9486d8abb74d62a12528b": {
          "model_module": "@jupyter-widgets/base",
          "model_name": "LayoutModel",
          "model_module_version": "1.2.0",
          "state": {
            "_model_module": "@jupyter-widgets/base",
            "_model_module_version": "1.2.0",
            "_model_name": "LayoutModel",
            "_view_count": null,
            "_view_module": "@jupyter-widgets/base",
            "_view_module_version": "1.2.0",
            "_view_name": "LayoutView",
            "align_content": null,
            "align_items": null,
            "align_self": null,
            "border": null,
            "bottom": null,
            "display": null,
            "flex": null,
            "flex_flow": null,
            "grid_area": null,
            "grid_auto_columns": null,
            "grid_auto_flow": null,
            "grid_auto_rows": null,
            "grid_column": null,
            "grid_gap": null,
            "grid_row": null,
            "grid_template_areas": null,
            "grid_template_columns": null,
            "grid_template_rows": null,
            "height": null,
            "justify_content": null,
            "justify_items": null,
            "left": null,
            "margin": null,
            "max_height": null,
            "max_width": null,
            "min_height": null,
            "min_width": null,
            "object_fit": null,
            "object_position": null,
            "order": null,
            "overflow": null,
            "overflow_x": null,
            "overflow_y": null,
            "padding": null,
            "right": null,
            "top": null,
            "visibility": null,
            "width": null
          }
        },
        "4f84709ec4714c20be18c37f953a3050": {
          "model_module": "@jupyter-widgets/controls",
          "model_name": "DescriptionStyleModel",
          "model_module_version": "1.5.0",
          "state": {
            "_model_module": "@jupyter-widgets/controls",
            "_model_module_version": "1.5.0",
            "_model_name": "DescriptionStyleModel",
            "_view_count": null,
            "_view_module": "@jupyter-widgets/base",
            "_view_module_version": "1.2.0",
            "_view_name": "StyleView",
            "description_width": ""
          }
        },
        "7b050ce17737453fbefc75a11e9465bb": {
          "model_module": "@jupyter-widgets/controls",
          "model_name": "IntTextModel",
          "model_module_version": "1.5.0",
          "state": {
            "_dom_classes": [],
            "_model_module": "@jupyter-widgets/controls",
            "_model_module_version": "1.5.0",
            "_model_name": "IntTextModel",
            "_view_count": null,
            "_view_module": "@jupyter-widgets/controls",
            "_view_module_version": "1.5.0",
            "_view_name": "IntTextView",
            "continuous_update": false,
            "description": "期間(日):",
            "description_tooltip": null,
            "disabled": false,
            "layout": "IPY_MODEL_9eea3befb07b4532800026fa068c3327",
            "step": 1,
            "style": "IPY_MODEL_e77a8dfbda194461aed8ad3b248630b8",
            "value": 30
          }
        },
        "9eea3befb07b4532800026fa068c3327": {
          "model_module": "@jupyter-widgets/base",
          "model_name": "LayoutModel",
          "model_module_version": "1.2.0",
          "state": {
            "_model_module": "@jupyter-widgets/base",
            "_model_module_version": "1.2.0",
            "_model_name": "LayoutModel",
            "_view_count": null,
            "_view_module": "@jupyter-widgets/base",
            "_view_module_version": "1.2.0",
            "_view_name": "LayoutView",
            "align_content": null,
            "align_items": null,
            "align_self": null,
            "border": null,
            "bottom": null,
            "display": null,
            "flex": null,
            "flex_flow": null,
            "grid_area": null,
            "grid_auto_columns": null,
            "grid_auto_flow": null,
            "grid_auto_rows": null,
            "grid_column": null,
            "grid_gap": null,
            "grid_row": null,
            "grid_template_areas": null,
            "grid_template_columns": null,
            "grid_template_rows": null,
            "height": null,
            "justify_content": null,
            "justify_items": null,
            "left": null,
            "margin": null,
            "max_height": null,
            "max_width": null,
            "min_height": null,
            "min_width": null,
            "object_fit": null,
            "object_position": null,
            "order": null,
            "overflow": null,
            "overflow_x": null,
            "overflow_y": null,
            "padding": null,
            "right": null,
            "top": null,
            "visibility": null,
            "width": null
          }
        },
        "e77a8dfbda194461aed8ad3b248630b8": {
          "model_module": "@jupyter-widgets/controls",
          "model_name": "DescriptionStyleModel",
          "model_module_version": "1.5.0",
          "state": {
            "_model_module": "@jupyter-widgets/controls",
            "_model_module_version": "1.5.0",
            "_model_name": "DescriptionStyleModel",
            "_view_count": null,
            "_view_module": "@jupyter-widgets/base",
            "_view_module_version": "1.2.0",
            "_view_name": "StyleView",
            "description_width": ""
          }
        },
        "4d68cfe6ed3b424c80739096e8a6cd62": {
          "model_module": "@jupyter-widgets/controls",
          "model_name": "ButtonModel",
          "model_module_version": "1.5.0",
          "state": {
            "_dom_classes": [],
            "_model_module": "@jupyter-widgets/controls",
            "_model_module_version": "1.5.0",
            "_model_name": "ButtonModel",
            "_view_count": null,
            "_view_module": "@jupyter-widgets/controls",
            "_view_module_version": "1.5.0",
            "_view_name": "ButtonView",
            "button_style": "",
            "description": "実行",
            "disabled": false,
            "icon": "",
            "layout": "IPY_MODEL_8ca7225c3e0049c5a6879b32846dffe3",
            "style": "IPY_MODEL_ac4e1105bd1549ee95715e1f73309612",
            "tooltip": ""
          }
        },
        "8ca7225c3e0049c5a6879b32846dffe3": {
          "model_module": "@jupyter-widgets/base",
          "model_name": "LayoutModel",
          "model_module_version": "1.2.0",
          "state": {
            "_model_module": "@jupyter-widgets/base",
            "_model_module_version": "1.2.0",
            "_model_name": "LayoutModel",
            "_view_count": null,
            "_view_module": "@jupyter-widgets/base",
            "_view_module_version": "1.2.0",
            "_view_name": "LayoutView",
            "align_content": null,
            "align_items": null,
            "align_self": null,
            "border": null,
            "bottom": null,
            "display": null,
            "flex": null,
            "flex_flow": null,
            "grid_area": null,
            "grid_auto_columns": null,
            "grid_auto_flow": null,
            "grid_auto_rows": null,
            "grid_column": null,
            "grid_gap": null,
            "grid_row": null,
            "grid_template_areas": null,
            "grid_template_columns": null,
            "grid_template_rows": null,
            "height": null,
            "justify_content": null,
            "justify_items": null,
            "left": null,
            "margin": null,
            "max_height": null,
            "max_width": null,
            "min_height": null,
            "min_width": null,
            "object_fit": null,
            "object_position": null,
            "order": null,
            "overflow": null,
            "overflow_x": null,
            "overflow_y": null,
            "padding": null,
            "right": null,
            "top": null,
            "visibility": null,
            "width": null
          }
        },
        "ac4e1105bd1549ee95715e1f73309612": {
          "model_module": "@jupyter-widgets/controls",
          "model_name": "ButtonStyleModel",
          "model_module_version": "1.5.0",
          "state": {
            "_model_module": "@jupyter-widgets/controls",
            "_model_module_version": "1.5.0",
            "_model_name": "ButtonStyleModel",
            "_view_count": null,
            "_view_module": "@jupyter-widgets/base",
            "_view_module_version": "1.2.0",
            "_view_name": "StyleView",
            "button_color": null,
            "font_weight": ""
          }
        }
      }
    }
  },
  "cells": [
    {
      "cell_type": "markdown",
      "metadata": {
        "id": "view-in-github",
        "colab_type": "text"
      },
      "source": [
        "<a href=\"https://colab.research.google.com/github/nakamae11/-/blob/main/%E6%A5%BD%E5%A4%A9%E3%82%B5%E3%83%BC%E3%83%81%E6%9C%9F%E9%96%93%E6%8C%87%E5%AE%9A%E5%8F%AF%E8%83%BDVer.ipynb\" target=\"_parent\"><img src=\"https://colab.research.google.com/assets/colab-badge.svg\" alt=\"Open In Colab\"/></a>"
      ]
    },
    {
      "cell_type": "code",
      "execution_count": 2,
      "metadata": {
        "colab": {
          "base_uri": "https://localhost:8080/",
          "height": 206,
          "referenced_widgets": [
            "c0a833af3183415092c86c04e895753b",
            "0b09344d309f40e6966881c669ef3e4f",
            "97c27228d95d4bcf93e14d56078d5af2",
            "1dbd3e4495b2431a9590b32dfc72ede1",
            "f6c7e1b446e3432ba653b17c15154db0",
            "0af92b2606ad405db8eb823ce8a2000c",
            "a99b563b5a00492780730f02604b5b6f",
            "7b878dce46f9486d8abb74d62a12528b",
            "4f84709ec4714c20be18c37f953a3050",
            "7b050ce17737453fbefc75a11e9465bb",
            "9eea3befb07b4532800026fa068c3327",
            "e77a8dfbda194461aed8ad3b248630b8",
            "4d68cfe6ed3b424c80739096e8a6cd62",
            "8ca7225c3e0049c5a6879b32846dffe3",
            "ac4e1105bd1549ee95715e1f73309612"
          ]
        },
        "id": "l2n4INziIQN5",
        "outputId": "f8d8952b-d415-4bbc-cb06-97c415c209d6"
      },
      "outputs": [
        {
          "output_type": "display_data",
          "data": {
            "text/plain": [
              "Text(value='コーヒー', description='キーワード:')"
            ],
            "application/vnd.jupyter.widget-view+json": {
              "version_major": 2,
              "version_minor": 0,
              "model_id": "c0a833af3183415092c86c04e895753b"
            }
          },
          "metadata": {}
        },
        {
          "output_type": "display_data",
          "data": {
            "text/plain": [
              "Dropdown(description='ソート:', options=(('標準', 'standard'), ('レビュー件数が多い順', 'reviewCount'), ('販売数が多い順', 'sales'),…"
            ],
            "application/vnd.jupyter.widget-view+json": {
              "version_major": 2,
              "version_minor": 0,
              "model_id": "1dbd3e4495b2431a9590b32dfc72ede1"
            }
          },
          "metadata": {}
        },
        {
          "output_type": "display_data",
          "data": {
            "text/plain": [
              "IntText(value=30, description='取得件数:')"
            ],
            "application/vnd.jupyter.widget-view+json": {
              "version_major": 2,
              "version_minor": 0,
              "model_id": "a99b563b5a00492780730f02604b5b6f"
            }
          },
          "metadata": {}
        },
        {
          "output_type": "display_data",
          "data": {
            "text/plain": [
              "IntText(value=30, description='期間(日):')"
            ],
            "application/vnd.jupyter.widget-view+json": {
              "version_major": 2,
              "version_minor": 0,
              "model_id": "7b050ce17737453fbefc75a11e9465bb"
            }
          },
          "metadata": {}
        },
        {
          "output_type": "display_data",
          "data": {
            "text/plain": [
              "Button(description='実行', style=ButtonStyle())"
            ],
            "application/vnd.jupyter.widget-view+json": {
              "version_major": 2,
              "version_minor": 0,
              "model_id": "4d68cfe6ed3b424c80739096e8a6cd62"
            }
          },
          "metadata": {}
        },
        {
          "output_type": "stream",
          "name": "stdout",
          "text": [
            "30 件の商品をスプレッドシートに書き込みました。\n",
            "レビューAPI連携は申請完了後に対応します。\n"
          ]
        }
      ],
      "source": [
        "#@title 楽天商品検索API＋スプレッドシート出力（レビューAPI連携は申請後対応）\n",
        "\n",
        "import requests\n",
        "import gspread\n",
        "from google.colab import auth\n",
        "from google.auth import default\n",
        "from IPython.display import display\n",
        "import ipywidgets as widgets\n",
        "import datetime\n",
        "\n",
        "auth.authenticate_user()\n",
        "creds, _ = default()\n",
        "gc = gspread.authorize(creds)\n",
        "\n",
        "# スプレッドシート名\n",
        "SPREADSHEET_NAME = 'rakuten_search_result'\n",
        "\n",
        "# 楽天API設定\n",
        "RAKUTEN_APP_ID = '1029815826014097771'\n",
        "\n",
        "# パラメータ入力ウィジェット\n",
        "keyword_widget = widgets.Text(value='コーヒー', description='キーワード:')\n",
        "sort_widget = widgets.Dropdown(options=[\n",
        "    ('標準', 'standard'),\n",
        "    ('レビュー件数が多い順', 'reviewCount'),\n",
        "    ('販売数が多い順', 'sales'),\n",
        "    ('価格が安い順', '+itemPrice'),\n",
        "    ('価格が高い順', '-itemPrice'),\n",
        "], description='ソート:')\n",
        "hits_widget = widgets.IntText(value=30, description='取得件数:')\n",
        "review_days_widget = widgets.IntText(value=30, description='期間(日):')\n",
        "\n",
        "button = widgets.Button(description=\"実行\")\n",
        "\n",
        "display(keyword_widget, sort_widget, hits_widget, review_days_widget, button)\n",
        "\n",
        "def main(_):\n",
        "    keyword = keyword_widget.value\n",
        "    sort = sort_widget.value\n",
        "    hits = hits_widget.value\n",
        "    review_days = review_days_widget.value  # まだ未対応（レビューAPI申請後に実装）\n",
        "\n",
        "    # 楽天商品検索API\n",
        "    url = 'https://app.rakuten.co.jp/services/api/IchibaItem/Search/20170706'\n",
        "    params = {\n",
        "        'applicationId': RAKUTEN_APP_ID,\n",
        "        'keyword': keyword,\n",
        "        'sort': sort,\n",
        "        'hits': hits,\n",
        "        'format': 'json'\n",
        "    }\n",
        "    res = requests.get(url, params=params).json()\n",
        "\n",
        "    # スプレッドシート準備\n",
        "    try:\n",
        "        sheet = gc.open(SPREADSHEET_NAME).sheet1\n",
        "    except gspread.SpreadsheetNotFound:\n",
        "        sheet = gc.create(SPREADSHEET_NAME).sheet1\n",
        "\n",
        "    sheet.clear()\n",
        "    sheet.append_row([\"商品名\", \"価格\", \"レビュー数\", \"商品URL\", \"ショップ名\", \"ショップURL\"])\n",
        "\n",
        "    for item in res.get(\"Items\", []):\n",
        "        data = item[\"Item\"]\n",
        "        row = [\n",
        "            data[\"itemName\"],\n",
        "            data[\"itemPrice\"],\n",
        "            data[\"reviewCount\"],\n",
        "            data[\"itemUrl\"],\n",
        "            data[\"shopName\"],\n",
        "            data[\"shopUrl\"]\n",
        "        ]\n",
        "        sheet.append_row(row)\n",
        "\n",
        "    print(f\"{len(res.get('Items', []))} 件の商品をスプレッドシートに書き込みました。\")\n",
        "    print(f\"レビューAPI連携は申請完了後に対応します。\")\n",
        "\n",
        "button.on_click(main)\n"
      ]
    }
  ]
}